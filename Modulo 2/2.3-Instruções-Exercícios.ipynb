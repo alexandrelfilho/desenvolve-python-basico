{
  "cells": [
    {
      "cell_type": "markdown",
      "metadata": {
        "id": "1pCTdOHonv5f"
      },
      "source": [
        "# Módulo 2\n",
        "\n",
        "## 2.3 Instruções e Expressões\n",
        "\n",
        "### Q1\n",
        "\n",
        "Faça um programa que armazene o valor de 20 reais de salário por hora de um trabalhador, e o número de 40 horas trabalhadas na semana. Com essas informações, calcule e imprima:\n",
        "- Salário semanal bruto\n",
        "- Valor descontado por semana INSS (10% do bruto)\n",
        "- Valor descontado por semana pelo sindicato (5% do bruto)\n",
        "- Salário semanal líquido (Bruto - Descontos)"
      ]
    },
    {
      "cell_type": "code",
      "execution_count": null,
      "metadata": {
        "id": "hVbX0I97nj6M"
      },
      "outputs": [],
      "source": [
        "\n",
        "sal_por_h = 20\n",
        "horas_semanais = 40\n",
        "sal_sem_bruto = sal_por_h*horas_semanais\n",
        "sal_sem_INSS = sal_sem_bruto*0.1\n",
        "sal_sem_sind = sal_sem_bruto*0.05\n",
        "sal_sem_liq = sal_sem_bruto-sal_sem_INSS-sal_sem_sind\n",
        "\n",
        "print(\"Salario bruto semanal:\",sal_sem_bruto)\n",
        "print(\"Desconto semanal INSS:\", sal_sem_INSS)\n",
        "print(\"Desconto semanal Sindicato:\", sal_sem_sind)\n",
        "print(\"Salario líquido:\", sal_sem_liq)"
      ]
    },
    {
      "cell_type": "markdown",
      "metadata": {
        "id": "pIxKX9J2oGZ1"
      },
      "source": [
        "### Q2\n",
        "\n",
        "Altere o programa anterior para a partir dos valores de horas trabalhadas por semana e salário por hora, calcular **em somente duas instruções**:\n",
        "- Salário semanal bruto\n",
        "- Salário semanal líquido com todos os descontos. Para a segunda instrução, realize todos os cálculos aritméticos em uma expressão composta.\n"
      ]
    },
    {
      "cell_type": "code",
      "execution_count": null,
      "metadata": {
        "id": "pAHw9Xf9oGoi"
      },
      "outputs": [],
      "source": [
        "sal_sem_bruto = 20*40\n",
        "sal_sem_liq = sal_sem_bruto-(sal_sem_bruto*0.1)-(sal_sem_bruto*0.05)\n",
        "\n",
        "print(\"Salario bruto semanal:\",sal_sem_bruto)\n",
        "print(\"Salario líquido:\", sal_sem_liq)"
      ]
    },
    {
      "cell_type": "markdown",
      "metadata": {
        "id": "m8tlHRuWpBOB"
      },
      "source": [
        "### Q3\n",
        "\n",
        "Você está desenvolvendo um software de conversão de moeda e precisa calcular o valor equivalente em yuan chinês a partir de uma quantia em real. A taxa de câmbio é de 0.69 BRL (real) para 1 CNY (yuan). Escreva um programa que define em uma variável uma quantia em reais (BRL) e calcula o valor equivalente em yuan (CNY). Imprima o resultado."
      ]
    },
    {
      "cell_type": "code",
      "execution_count": null,
      "metadata": {
        "id": "2bPw7uF6oeL9"
      },
      "outputs": [],
      "source": [
        "quantia_brl = 100\n",
        "cambio = 0.69\n",
        "\n",
        "valor_em_cny = quantia_brl / cambio\n",
        "\n",
        "print(quantia_brl, \"Reais dão\", round(valor_em_cny, 2),\"yuans\")"
      ]
    },
    {
      "cell_type": "markdown",
      "metadata": {
        "id": "-Na3ltDCp74A"
      },
      "source": [
        "### Q4\n",
        "\n",
        "Você é um treinador de corrida e deseja calcular a velocidade média que um atleta precisa manter para completar a Maratona Internacional de São Silvestre, que tem uma distância total de 42.195 km. A fórmula para calcular a velocidade média ($v\\_media$) é dada por $v\\_media = \\frac{distancia}{tempo}$ . Escreva um programa em Python para calcular a velocidade média necessária para completar a maratona em 3 horas.\n",
        "\n",
        "**Calcule e imprima o resultado em metros/segundo**, ou seja, converta a distância de quilômetros para metros ($metro = \\frac{km}{1000}$) e a velocidade de horas para segundos $(segundo = \\frac{hora}{3600})$."
      ]
    },
    {
      "cell_type": "code",
      "execution_count": null,
      "metadata": {
        "id": "Bn6l8kcSrE4L"
      },
      "outputs": [],
      "source": [
        "m = 1\n",
        "km = 1000*m\n",
        "d = 42.195*km\n",
        "segundo = 1\n",
        "minuto = 60*segundo\n",
        "hora = 60*minuto\n",
        "t= 3*hora\n",
        "vmedia = d/t\n",
        "\n",
        "print(\"Distância:\", d, \"metros\")\n",
        "print(\"Velocidade média:\", round(vmedia,2), \"m/s\")"
      ]
    }
  ],
  "metadata": {
    "colab": {
      "provenance": []
    },
    "kernelspec": {
      "display_name": "Python 3",
      "name": "python3"
    },
    "language_info": {
      "name": "python"
    }
  },
  "nbformat": 4,
  "nbformat_minor": 0
}
